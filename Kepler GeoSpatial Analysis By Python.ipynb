{
  "nbformat": 4,
  "nbformat_minor": 0,
  "metadata": {
    "colab": {
      "provenance": []
    },
    "kernelspec": {
      "name": "python3",
      "display_name": "Python 3"
    },
    "language_info": {
      "name": "python"
    }
  },
  "cells": [
    {
      "cell_type": "markdown",
      "source": [
        "I suggest you guys to run kepler on \"colab\" instead of \"JupyterLab\""
      ],
      "metadata": {
        "id": "RlyokE-md7Sk"
      }
    },
    {
      "cell_type": "markdown",
      "source": [
        "Install"
      ],
      "metadata": {
        "id": "E5n5ICXcK8Vb"
      }
    },
    {
      "cell_type": "code",
      "execution_count": null,
      "metadata": {
        "id": "vCHt9FkQJOVK"
      },
      "outputs": [],
      "source": [
        "pip install geopandas"
      ]
    },
    {
      "cell_type": "code",
      "source": [
        "pip install keplergl"
      ],
      "metadata": {
        "id": "tFYKIN-7JdQI"
      },
      "execution_count": null,
      "outputs": []
    },
    {
      "cell_type": "markdown",
      "source": [
        "Import"
      ],
      "metadata": {
        "id": "8r4ojRNkLJD0"
      }
    },
    {
      "cell_type": "code",
      "source": [
        "import pandas as pd\n",
        "import geopandas as gpd\n",
        "from keplergl import KeplerGl"
      ],
      "metadata": {
        "id": "OUFIh8aJJx6d"
      },
      "execution_count": 8,
      "outputs": []
    },
    {
      "cell_type": "markdown",
      "source": [
        "Third Party Jupyter widget for Colab"
      ],
      "metadata": {
        "id": "hAt8lHEXLffJ"
      }
    },
    {
      "cell_type": "code",
      "source": [
        "from google.colab import output\n",
        "output.enable_custom_widget_manager()"
      ],
      "metadata": {
        "id": "H93Kmmq1J9L1"
      },
      "execution_count": 9,
      "outputs": []
    },
    {
      "cell_type": "markdown",
      "source": [
        "Base map"
      ],
      "metadata": {
        "id": "VnSKcE4TLT8W"
      }
    },
    {
      "cell_type": "code",
      "source": [
        "m = KeplerGl(height=600, width=800)\n",
        "m"
      ],
      "metadata": {
        "id": "PhCD2PILJ4jF"
      },
      "execution_count": null,
      "outputs": []
    },
    {
      "cell_type": "markdown",
      "source": [
        "Data frame"
      ],
      "metadata": {
        "id": "tC9j5kezLyUj"
      }
    },
    {
      "cell_type": "code",
      "source": [
        "df = pd.DataFrame(\n",
        "    {\n",
        "        \"City\": [\"Shanghai\", \"Sao paulo\", \"Cairo\", \"London\", \"Toronto\", \"Sydney\"],\n",
        "        \"Country\": [\"China\", \"Brazil\", \"Egypt\", \"England\", \"Canada\", \"Australia\"],\n",
        "        \"Latitude\": [31.045556, -23.473293, 30.05, 51.514125, 43.666667, -33.861481],\n",
        "        \"Longitude\": [121.399722, -46.665803, 31.25, -0.093689, -79.416667, 151.205475],\n",
        "        \"Population\": [14608512, 10021437, 7734602, 7421228, 4612187, 4394585],\n",
        "    }\n",
        ")\n",
        "\n",
        "\n",
        "df"
      ],
      "metadata": {
        "id": "oIwf17wLLrTy"
      },
      "execution_count": null,
      "outputs": []
    },
    {
      "cell_type": "markdown",
      "source": [
        "locate cities on the map"
      ],
      "metadata": {
        "id": "xxWQmMogOgRG"
      }
    },
    {
      "cell_type": "code",
      "source": [
        "m.add_data(data=df, name='cities')\n",
        "m"
      ],
      "metadata": {
        "id": "XYUhXo7yMDJD"
      },
      "execution_count": null,
      "outputs": []
    },
    {
      "cell_type": "markdown",
      "source": [
        "P.S: for customizing use the Kepler tabs"
      ],
      "metadata": {
        "id": "MUipjnM7PcDm"
      }
    },
    {
      "cell_type": "markdown",
      "source": [
        "GeoDataFrame"
      ],
      "metadata": {
        "id": "bGjhq1woP4vZ"
      }
    },
    {
      "cell_type": "code",
      "source": [
        "import pandas as pd\n",
        "import geopandas as gpd\n",
        "from keplergl import KeplerGl"
      ],
      "metadata": {
        "id": "tR2SEn17PvlT"
      },
      "execution_count": 13,
      "outputs": []
    },
    {
      "cell_type": "code",
      "source": [
        "parking_df = pd.read_csv(\"parking_violations_2015.csv\")\n",
        "parking_df.head()"
      ],
      "metadata": {
        "id": "tyBPupSWQFRy"
      },
      "execution_count": null,
      "outputs": []
    },
    {
      "cell_type": "code",
      "source": [
        "parking_df.shape"
      ],
      "metadata": {
        "id": "e9Z0M64mROx8"
      },
      "execution_count": null,
      "outputs": []
    },
    {
      "cell_type": "code",
      "source": [
        "parking_df.dropna(subset=[\"lat\", \"lon\"], how='all', inplace=True)"
      ],
      "metadata": {
        "id": "K9WzIgXQRTN_"
      },
      "execution_count": 16,
      "outputs": []
    },
    {
      "cell_type": "code",
      "source": [
        "parking_df.shape"
      ],
      "metadata": {
        "id": "54Kf8Z37RY-W"
      },
      "execution_count": null,
      "outputs": []
    },
    {
      "cell_type": "code",
      "source": [
        "gdf = gpd.GeoDataFrame(parking_df, geometry=gpd.points_from_xy(parking_df.lon, parking_df.lat), crs=\"EPSG:4326\")\n",
        "gdf.head()"
      ],
      "metadata": {
        "id": "GrHkQFyTRdPg"
      },
      "execution_count": null,
      "outputs": []
    },
    {
      "cell_type": "code",
      "source": [
        "gdf.to_file(\"parking_2015.geojson\",  driver='GeoJSON')"
      ],
      "metadata": {
        "id": "K292Vz-ZRhhw"
      },
      "execution_count": 19,
      "outputs": []
    },
    {
      "cell_type": "code",
      "source": [
        "m = KeplerGl(height=900)\n",
        "m.add_data(data=gdf, name='parking_points')\n",
        "m"
      ],
      "metadata": {
        "id": "Fui8NDSDR3HU"
      },
      "execution_count": null,
      "outputs": []
    },
    {
      "cell_type": "code",
      "source": [
        "import geopandas as gpd\n",
        "from keplergl import KeplerGl"
      ],
      "metadata": {
        "id": "-gzZKKzFScml"
      },
      "execution_count": 21,
      "outputs": []
    },
    {
      "cell_type": "markdown",
      "source": [
        "3D visualize"
      ],
      "metadata": {
        "id": "sptcpLokTGiU"
      }
    },
    {
      "cell_type": "code",
      "source": [
        "gdf = gpd.read_file(\"parking_2015.geojson\")\n",
        "gdf.head()"
      ],
      "metadata": {
        "id": "9tj_Fp82Sh2a"
      },
      "execution_count": null,
      "outputs": []
    },
    {
      "cell_type": "code",
      "source": [
        "m = KeplerGl(height=900)\n",
        "m.add_data(data=gdf, name='3dHexagon')\n",
        "m"
      ],
      "metadata": {
        "id": "NtxToyPvSx_M"
      },
      "execution_count": null,
      "outputs": []
    },
    {
      "cell_type": "markdown",
      "source": [
        "Animate"
      ],
      "metadata": {
        "id": "oj7zmK79TVtc"
      }
    },
    {
      "cell_type": "code",
      "source": [
        "import geopandas as gpd\n",
        "import pandas as pd\n",
        "from keplergl import KeplerGl"
      ],
      "metadata": {
        "id": "it9rf4DsTL8Z"
      },
      "execution_count": 24,
      "outputs": []
    },
    {
      "cell_type": "code",
      "source": [
        "gdf = gpd.read_file(\"parking_2015.geojson\", parse_dates=True)\n",
        "gdf.head()"
      ],
      "metadata": {
        "id": "jDV4lMOhTbVU"
      },
      "execution_count": null,
      "outputs": []
    },
    {
      "cell_type": "code",
      "source": [
        "gdf[\"issue_datetime\"] = pd.to_datetime(gdf[\"issue_datetime\"], dayfirst=True)"
      ],
      "metadata": {
        "id": "dh0kAt_ETjLP"
      },
      "execution_count": 26,
      "outputs": []
    },
    {
      "cell_type": "code",
      "source": [
        "gdf.sample(10)"
      ],
      "metadata": {
        "id": "HwbGkhGaT2Zq"
      },
      "execution_count": null,
      "outputs": []
    },
    {
      "cell_type": "code",
      "source": [
        "m = KeplerGl(height=900)\n",
        "m.add_data(data=gdf, name='animation')\n",
        "m"
      ],
      "metadata": {
        "id": "U1CPp7VqT6Xs"
      },
      "execution_count": null,
      "outputs": []
    },
    {
      "cell_type": "markdown",
      "source": [
        "Choropleth Map"
      ],
      "metadata": {
        "id": "P9GDFm8CUSsv"
      }
    },
    {
      "cell_type": "code",
      "source": [
        "import geopandas as gpd\n",
        "from keplergl import KeplerGl\n",
        "neighborhoods = gpd.read_file(\"neighbrhoods.geojson\")\n",
        "neighborhoods.head()"
      ],
      "metadata": {
        "id": "aoCzzkKYUQo3"
      },
      "execution_count": null,
      "outputs": []
    },
    {
      "cell_type": "code",
      "source": [
        "neighborhoods = neighborhoods.to_crs(\"EPSG:4326\")"
      ],
      "metadata": {
        "id": "TmFIDrKqYXWA"
      },
      "execution_count": 36,
      "outputs": []
    },
    {
      "cell_type": "code",
      "source": [
        "neighborhoods.crs"
      ],
      "metadata": {
        "id": "e7c2o2K1YOix"
      },
      "execution_count": null,
      "outputs": []
    },
    {
      "cell_type": "code",
      "source": [
        "m = KeplerGl(height=900)\n",
        "m.add_data(data=neighborhoods, name='choropleth_map')\n",
        "m"
      ],
      "metadata": {
        "id": "i_PirEBEdzL_"
      },
      "execution_count": null,
      "outputs": []
    }
  ]
}
